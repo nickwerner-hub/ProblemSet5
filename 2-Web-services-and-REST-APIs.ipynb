{
 "cells": [
  {
   "cell_type": "markdown",
   "metadata": {},
   "source": [
    "# Section 2 - Web services and REST APIs\n",
    "_Complete the following Python tasks. Comments aren't required but they can be helpful in awarding partial credit if you fail to get the correct answer._"
   ]
  },
  {
   "cell_type": "markdown",
   "metadata": {},
   "source": [
    "## Task 1. Using the NWIS web site as a REST API\n",
    "Modify the code below, which downloads the most recent day's data for the USGS gage for Eno River near Durham, NC (Gage ID 02085070), so that it downloads the **last 7 day's data** for ~~**Eno River At Cole Mill Rd Nr Huckleberry Spring (Gage ID 02085039)**~~ (No discharge data!) **Eno River at Hillsborough (Gage ID 02085000)**\n",
    "* Resource: `1-NWIS-discharge-data-as-API.ipynb` in the `UsingAPIs` repository."
   ]
  },
  {
   "cell_type": "code",
   "execution_count": null,
   "metadata": {},
   "outputs": [],
   "source": [
    "#Import the requests package\n",
    "import requests"
   ]
  },
  {
   "cell_type": "code",
   "execution_count": null,
   "metadata": {},
   "outputs": [],
   "source": [
    "#dissect the URL into it's components, for easy comprehension -- and easy modification\n",
    "serviceURL = 'http://waterdata.usgs.gov/nwis/uv'\n",
    "parameters = {'cb_00060':'on',\n",
    "              'cb_00065':'on',\n",
    "              'format':'rdb',\n",
    "              'period':'1',\n",
    "              'site_no':'02085070',\n",
    "              'begin_date':'',\n",
    "              'end_date':''\n",
    "             }"
   ]
  },
  {
   "cell_type": "code",
   "execution_count": null,
   "metadata": {},
   "outputs": [],
   "source": [
    "#Pass the url and its parameters to the server and get its response\n",
    "response = requests.get(serviceURL, parameters)\n",
    "responseText = response.text"
   ]
  },
  {
   "cell_type": "code",
   "execution_count": null,
   "metadata": {},
   "outputs": [],
   "source": [
    "#Convert the response text into a list of lines and print the second to last line\n",
    "responseLines = responseText.split('\\n')\n",
    "lastRecord = responseLines[-2].split('\\t')\n",
    "site = lastRecord[1]\n",
    "cfs = lastRecord[4]\n",
    "date = lastRecord[2]\n",
    "print(\"Site {0} recorded a discharge of {1} cfs on {2}\".format(site,cfs,date))"
   ]
  },
  {
   "cell_type": "markdown",
   "metadata": {},
   "source": [
    "## Task 2. Exploring the ESRI REST API\n",
    "In this exercise, we'll use Durham ArcGIS Services to obtain a shapefile of park locations, including only those that contain disc golf courses. "
   ]
  },
  {
   "cell_type": "markdown",
   "metadata": {},
   "source": [
    "### Task 2a. Familiarization with the ESRI REST services\n",
    "The City of Durham hosts provides access to its GIS web services via this link: http://gisweb2.durhamnc.gov/ArcGIS/rest/services/. \n",
    "* Open the `DurhamMaps` folder to reveal the services hosted there. \n",
    "* Navigate to the Parks Feature Server REST endpoint. In the code cell below, enter the URL for this page:"
   ]
  },
  {
   "cell_type": "code",
   "execution_count": null,
   "metadata": {},
   "outputs": [],
   "source": [
    "#Enter the URL for the Durham Parks feature service, found in the DurhamMaps folder\n",
    "#"
   ]
  },
  {
   "cell_type": "markdown",
   "metadata": {},
   "source": [
    "* Now navigate into the REST endpoint for the one feature layer included in this service. Enter its URL below:"
   ]
  },
  {
   "cell_type": "code",
   "execution_count": null,
   "metadata": {},
   "outputs": [],
   "source": [
    "#Enter the URL for the Park Points feature layer service, located within the Parks feature service above\n",
    "#"
   ]
  },
  {
   "cell_type": "markdown",
   "metadata": {},
   "source": [
    " → _Explore the fields included in this service. We will use them to query records from this service._"
   ]
  },
  {
   "cell_type": "markdown",
   "metadata": {},
   "source": [
    "* Open the query interface for the Park Points feature layer ([link](http://gisweb2.durhamnc.gov/arcgis/rest/services/DurhamMaps/Parks/FeatureServer/0/query))\n",
    "\n",
    "* Fetch the first record's attributes by entering the following in the query interface and then clicking `Query (GET)`:\n",
    " * Where = `OBJECTID = 1` (to get just the first record)\n",
    " * Out Fields: `*` (to retrieve all fields)\n",
    " \n",
    "* Enter the URL associated with this request in the code cell below:"
   ]
  },
  {
   "cell_type": "code",
   "execution_count": null,
   "metadata": {},
   "outputs": [],
   "source": [
    "#Enter the URL for the request formed above\n",
    "#"
   ]
  },
  {
   "cell_type": "markdown",
   "metadata": {},
   "source": [
    "### Task 2b. Modifying our request and processing results\n",
    "* Modify the request so that it returns <u>all park features that have have a disc golf course, in JSON format.</u>. Enter the URL for that request below. "
   ]
  },
  {
   "cell_type": "code",
   "execution_count": null,
   "metadata": {},
   "outputs": [],
   "source": [
    "#Enter the URL for the request returning all parks with disc_golf courses. \n",
    "#"
   ]
  },
  {
   "cell_type": "markdown",
   "metadata": {},
   "source": [
    "* Copy the contents of the JSON request and paste into a new text file called `golf.json` in your data folder. Then run the command below. It should produce a new shapefile that you can view in ArcGIS Pro.\n",
    " * https://pro.arcgis.com/en/pro-app/tool-reference/conversion/json-to-features.htm"
   ]
  },
  {
   "cell_type": "code",
   "execution_count": null,
   "metadata": {},
   "outputs": [],
   "source": [
    "#Converting our saved JSON file to a feature class using ArcPy\n",
    "import arcpy\n",
    "arcpy.JSONToFeatures_conversion(\n",
    "    in_json_file='./data/golf.json',\n",
    "    out_features='./data/golf.shp',\n",
    "    geometry_type='POINT')"
   ]
  }
 ],
 "metadata": {
  "kernelspec": {
   "display_name": "Python 3",
   "language": "python",
   "name": "python3"
  },
  "language_info": {
   "codemirror_mode": {
    "name": "ipython",
    "version": 3
   },
   "file_extension": ".py",
   "mimetype": "text/x-python",
   "name": "python",
   "nbconvert_exporter": "python",
   "pygments_lexer": "ipython3",
   "version": "3.6.8"
  }
 },
 "nbformat": 4,
 "nbformat_minor": 2
}
